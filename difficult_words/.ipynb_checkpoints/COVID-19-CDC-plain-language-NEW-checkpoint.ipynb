{
 "cells": [
  {
   "cell_type": "code",
   "execution_count": 1,
   "metadata": {},
   "outputs": [],
   "source": [
    "# Python notebook for counting the number of difficult words and phrases that appear in a document\n",
    "# List of words and phrases taken from CDC's \"Everyday Words for Public Health Communication\"\n",
    "# https://www.cdc.gov/other/pdf/EverydayWordsForPublicHealthCommunication.pdf"
   ]
  },
  {
   "cell_type": "code",
   "execution_count": null,
   "metadata": {},
   "outputs": [],
   "source": [
    "# import packages\n",
    "import nltk\n",
    "import pathlib\n",
    "import re\n",
    "import pandas as pd"
   ]
  },
  {
   "cell_type": "code",
   "execution_count": 2,
   "metadata": {},
   "outputs": [],
   "source": [
    "# load main list of 113 words/phrases from CDC guidelines (\"problem cases\" are handled separately)\n",
    "with open('./CDC_main.txt','r') as f:\n",
    "    difficult_main = f.readlines()\n",
    "    difficult_main = [x.strip() for x in difficult_main]"
   ]
  },
  {
   "cell_type": "code",
   "execution_count": 3,
   "metadata": {},
   "outputs": [],
   "source": [
    "# words and phrases requiring special handling because of duplicates\n",
    "problem_words = ['risk', 'disease', 'assessment', 'registry']\n",
    "problem_phrases = ['risk assessment', 'disease registry', 'chronic disease', 'risk factor']"
   ]
  },
  {
   "cell_type": "code",
   "execution_count": 4,
   "metadata": {},
   "outputs": [
    {
     "data": {
      "text/plain": [
       "121"
      ]
     },
     "execution_count": 4,
     "metadata": {},
     "output_type": "execute_result"
    }
   ],
   "source": [
    "# total number of owrds and phrases considered\n",
    "len(difficult_main+problem_words+problem_phrases)"
   ]
  },
  {
   "cell_type": "code",
   "execution_count": 5,
   "metadata": {},
   "outputs": [],
   "source": [
    "# count how many words/phrases in list appear at least once in text\n",
    "def howManyPhrases (phrases, text):\n",
    "    count = 0\n",
    "    for phrase in phrases:\n",
    "        if re.search(r\"\\b\" + re.escape(phrase.lower()) + r\"\\b\", text.lower()):\n",
    "            count += 1\n",
    "    return count"
   ]
  },
  {
   "cell_type": "code",
   "execution_count": 6,
   "metadata": {},
   "outputs": [],
   "source": [
    "# count problem words after removing problem phrases\n",
    "def correctionCount(text):\n",
    "    for word in problem_phrases:\n",
    "        text = text.replace(word, \"\")\n",
    "    correction = howManyPhrases(problem_words, text)\n",
    "    return correction"
   ]
  },
  {
   "cell_type": "code",
   "execution_count": 7,
   "metadata": {},
   "outputs": [],
   "source": [
    "# count for entire list \n",
    "def totalCount(text):\n",
    "    # main list\n",
    "    count1 = howManyPhrases(difficult_main, text)\n",
    "    # problem words\n",
    "    count2 = correctionCount(text)\n",
    "    # problem phrases\n",
    "    count3 = howManyPhrases(problem_phrases,text)\n",
    "    difficult_count = count1 + count2 + count3\n",
    "    return difficult_count"
   ]
  },
  {
   "cell_type": "code",
   "execution_count": 12,
   "metadata": {},
   "outputs": [],
   "source": [
    "# analyze CDC files\n",
    "path = pathlib.Path(\"./CDC_txt_all\")\n",
    "\n",
    "filename = []\n",
    "token_count = []\n",
    "count = []\n",
    "frac = []\n",
    "\n",
    "# loop through each file\n",
    "for entry in path.iterdir():\n",
    "    if entry.is_file(): \n",
    "        with open(entry,'r', errors='ignore') as f:\n",
    "            raw = f.read()\n",
    "            \n",
    "            #token count\n",
    "            tokens = nltk.word_tokenize(raw)\n",
    "            # count of difficult words and phrases\n",
    "            difficult_count = totalCount(raw)\n",
    "            # fraction of difficult words and phrases appearing\n",
    "            difficult_frac = difficult_count / 121\n",
    "            \n",
    "            filename.append(entry)\n",
    "            token_count.append(len(tokens))\n",
    "            count.append(difficult_count)\n",
    "            frac.append(difficult_frac)"
   ]
  },
  {
   "cell_type": "code",
   "execution_count": 13,
   "metadata": {},
   "outputs": [],
   "source": [
    "# export CDC results to csv\n",
    "df_filename = pd.DataFrame({'file': filename})\n",
    "df_token_count = pd.DataFrame({'tokens': token_count})\n",
    "df_count = pd.DataFrame({'raw count': count})\n",
    "df_frac = pd.DataFrame({'fraction': frac})\n",
    "\n",
    "df_combined = pd.concat([df_filename, df_token_count, df_count, df_frac], axis=1)\n",
    "df_combined_final = df_combined.round(3).sort_values(by='file')\n",
    "df_combined_final.to_csv('./CDC_difficult_words_analysis.csv', sep=',',index=False)"
   ]
  },
  {
   "cell_type": "code",
   "execution_count": 14,
   "metadata": {},
   "outputs": [],
   "source": [
    "# analyze state files\n",
    "path = pathlib.Path(\"./50_states\")\n",
    "\n",
    "filename = []\n",
    "token_count = []\n",
    "count = []\n",
    "frac = []\n",
    "\n",
    "# loop through each file\n",
    "for entry in path.iterdir():\n",
    "    if entry.is_file(): \n",
    "        with open(entry,'r', errors='ignore') as f:\n",
    "            raw = f.read()\n",
    "            \n",
    "            #token count\n",
    "            tokens = nltk.word_tokenize(raw)\n",
    "            # count of difficult words and phrases\n",
    "            difficult_count = totalCount(raw)\n",
    "            # fraction of difficult words and phrases appearing\n",
    "            difficult_frac = difficult_count / 121\n",
    "            \n",
    "            filename.append(entry)\n",
    "            token_count.append(len(tokens))\n",
    "            count.append(difficult_count)\n",
    "            frac.append(difficult_frac)"
   ]
  },
  {
   "cell_type": "code",
   "execution_count": 15,
   "metadata": {},
   "outputs": [],
   "source": [
    "# export state results to csv\n",
    "df_filename = pd.DataFrame({'file': filename})\n",
    "df_token_count = pd.DataFrame({'tokens': token_count})\n",
    "df_count = pd.DataFrame({'raw count': count})\n",
    "df_frac = pd.DataFrame({'fraction': frac})\n",
    "\n",
    "df_combined = pd.concat([df_filename, df_token_count, df_count, df_frac], axis=1)\n",
    "df_combined_final = df_combined.round(3).sort_values(by='file')\n",
    "df_combined_final.to_csv('./states_difficult_words_analysis.csv', sep=',',index=False)"
   ]
  }
 ],
 "metadata": {
  "kernelspec": {
   "display_name": "Python 3",
   "language": "python",
   "name": "python3"
  },
  "language_info": {
   "codemirror_mode": {
    "name": "ipython",
    "version": 3
   },
   "file_extension": ".py",
   "mimetype": "text/x-python",
   "name": "python",
   "nbconvert_exporter": "python",
   "pygments_lexer": "ipython3",
   "version": "3.7.7"
  }
 },
 "nbformat": 4,
 "nbformat_minor": 2
}
