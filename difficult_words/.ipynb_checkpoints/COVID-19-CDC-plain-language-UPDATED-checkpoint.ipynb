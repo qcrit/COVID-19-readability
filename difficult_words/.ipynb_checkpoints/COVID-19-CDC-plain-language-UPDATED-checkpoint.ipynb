{
 "cells": [
  {
   "cell_type": "code",
   "execution_count": 92,
   "metadata": {},
   "outputs": [],
   "source": [
    "# import packages\n",
    "import nltk\n",
    "import pathlib\n",
    "import re\n",
    "import pandas as pd"
   ]
  },
  {
   "cell_type": "code",
   "execution_count": 93,
   "metadata": {},
   "outputs": [],
   "source": [
    "# load main list of 113 words/phrases from CDC guidelines (\"problem cases\" are handled separately)\n",
    "with open('./CDC_main.txt','r') as f:\n",
    "    difficult_main = f.readlines()\n",
    "    difficult_main = [x.strip() for x in difficult_main]"
   ]
  },
  {
   "cell_type": "code",
   "execution_count": 94,
   "metadata": {},
   "outputs": [],
   "source": [
    "# words and phrases requiring special handling because of duplicates\n",
    "problem_words = ['risk', 'disease', 'assessment', 'registry']\n",
    "problem_phrases = ['risk assessment', 'disease registry', 'chronic disease', 'risk factor']"
   ]
  },
  {
   "cell_type": "code",
   "execution_count": 95,
   "metadata": {},
   "outputs": [
    {
     "data": {
      "text/plain": [
       "121"
      ]
     },
     "execution_count": 95,
     "metadata": {},
     "output_type": "execute_result"
    }
   ],
   "source": [
    "# total number of owrds and phrases considered\n",
    "len(difficult_main+problem_words+problem_phrases)"
   ]
  },
  {
   "cell_type": "code",
   "execution_count": 96,
   "metadata": {},
   "outputs": [],
   "source": [
    "# count how many words/phrases in list appear at least once in text\n",
    "def howManyPhrases (phrases, text):\n",
    "    count = 0\n",
    "    for phrase in phrases:\n",
    "        if re.search(r\"\\b\" + re.escape(phrase.lower()) + r\"\\b\", text.lower()):\n",
    "            count += 1\n",
    "    return count"
   ]
  },
  {
   "cell_type": "code",
   "execution_count": 97,
   "metadata": {},
   "outputs": [],
   "source": [
    "# count problem words after removing problem phrases\n",
    "def correctionCount(text):\n",
    "    for word in problem_phrases:\n",
    "        text = text.replace(word, \"\")\n",
    "    correction = howManyPhrases(problem_words, text)\n",
    "    return correction"
   ]
  },
  {
   "cell_type": "code",
   "execution_count": 107,
   "metadata": {},
   "outputs": [],
   "source": [
    "# count for entire list \n",
    "def totalCount(text):\n",
    "    # main list\n",
    "    count1 = howManyPhrases(difficult_main, text)\n",
    "    # problem words\n",
    "    count2 = correctionCount(text)\n",
    "    # problem phrases\n",
    "    count3 = howManyPhrases(problem_phrases,text)\n",
    "    difficult_count = count1 + count2 + count3\n",
    "    return difficult_count"
   ]
  },
  {
   "cell_type": "code",
   "execution_count": null,
   "metadata": {},
   "outputs": [],
   "source": [
    "# analyze CDC files\n",
    "path = pathlib.Path(\"./CDC_txt_all\")\n",
    "\n",
    "filename = []\n",
    "token_count = []\n",
    "count = []\n",
    "frac = []\n",
    "\n",
    "# loop through each file\n",
    "for entry in path.iterdir():\n",
    "    if entry.is_file(): \n",
    "        with io.open(entry, 'r', encoding='windows-1252') as f:\n",
    "        #with open(entry,'r') as f:\n",
    "            \n",
    "            raw = f.read()\n",
    "            tokens = nltk.word_tokenize(raw)\n",
    "            \n",
    "            # count of difficult words and phrases that appear at least once \n",
    "            difficult_count = howManyWords(difficult_all, raw)\n",
    "            # fraction of difficult words and phrases appearing\n",
    "            difficult_frac = difficult_count / len(difficult_all)\n",
    "            \n",
    "            # total instances of difficult words and phrases\n",
    "            difficult_total = cumulativeCount(difficult_all, raw)\n",
    "            # per-token frequency of difficult words and phrases\n",
    "            difficult_freq = difficult_total / len(tokens)\n",
    "            \n",
    "            filename.append(entry)\n",
    "            token_count.append(len(tokens))\n",
    "            \n",
    "            count.append(difficult_count)\n",
    "            frac.append(difficult_frac)\n",
    "            total.append(difficult_total)\n",
    "            freq.append(difficult_freq) "
   ]
  },
  {
   "cell_type": "code",
   "execution_count": null,
   "metadata": {},
   "outputs": [],
   "source": []
  },
  {
   "cell_type": "code",
   "execution_count": null,
   "metadata": {},
   "outputs": [],
   "source": []
  },
  {
   "cell_type": "code",
   "execution_count": 98,
   "metadata": {},
   "outputs": [],
   "source": [
    "# generate final counts tokens and difficult words and phrases\n",
    "def finalValues(text):\n",
    "    \n",
    "    #token count\n",
    "    tokens = nltk.word_tokenize(text)\n",
    "    \n",
    "    # count of difficult words and phrases that appear at least once\n",
    "    # main list\n",
    "    count1 = howManyPhrases(difficult_main, text)\n",
    "    # problem words\n",
    "    count2 = correctionCount(text)\n",
    "    # problem phrases\n",
    "    count3 = howManyPhrases(problem_phrases,text)\n",
    "    # total count\n",
    "    difficult_count = count1 + count2 + count3\n",
    "    \n",
    "    # fraction of difficult words and phrases appearing\n",
    "    difficult_frac = difficult_count / 121\n",
    "    \n",
    "    return filename, token_count, count, fraction"
   ]
  },
  {
   "cell_type": "code",
   "execution_count": 104,
   "metadata": {},
   "outputs": [],
   "source": [
    "# analyze CDC files\n",
    "path = pathlib.Path(\"./CDC_txt_all\")\n",
    "\n",
    "filename_CDC = []\n",
    "token_count = []\n",
    "count_CDC = []\n",
    "fraction_CDC = []\n",
    "\n",
    "for entry in path.iterdir():\n",
    "    if entry.is_file(): \n",
    "        with open(entry,'r', errors='ignore') as f:\n",
    "            raw = f.read()\n",
    "            finalValues(raw)\n",
    "            \n",
    "# export CDC results to csv\n",
    "df_filename_CDC = pd.DataFrame({'file': filename_CDC})\n",
    "df_token_count_CDC = pd.DataFrame({'tokens': token_count_CDC})\n",
    "df_count_CDC = pd.DataFrame({'raw count': count_CDC})\n",
    "df_frac_CDC = pd.DataFrame({'fraction': fraction_CDC})\n",
    "\n",
    "df_combined = pd.concat([df_filename_CDC, df_token_count_CDC, df_count_CDC, df_frac_CDC], axis=1)\n",
    "df_combined_final = df_combined.round(3).sort_values(by='file')\n",
    "df_combined_final.to_csv('./CDCpages_difficult_words_analysis.csv', sep=',',index=False)"
   ]
  },
  {
   "cell_type": "code",
   "execution_count": 106,
   "metadata": {},
   "outputs": [
    {
     "data": {
      "text/plain": [
       "[]"
      ]
     },
     "execution_count": 106,
     "metadata": {},
     "output_type": "execute_result"
    }
   ],
   "source": [
    "token_count"
   ]
  },
  {
   "cell_type": "code",
   "execution_count": 100,
   "metadata": {},
   "outputs": [],
   "source": [
    "# analyze US state files\n",
    "path = pathlib.Path(\"./50_states\")\n",
    "\n",
    "filename_states = []\n",
    "token_count_states = []\n",
    "count_states = []\n",
    "fraction_states = []\n",
    "\n",
    "for entry in path.iterdir():\n",
    "    if entry.is_file(): \n",
    "        with open(entry,'r', errors='ignore') as f:\n",
    "            raw = f.read()\n",
    "            finalValues(raw)\n",
    "            \n",
    "# export state results to csv\n",
    "df_filename_states = pd.DataFrame({'file': filename_states})\n",
    "df_token_count_states = pd.DataFrame({'tokens': token_count_states})\n",
    "df_count_states = pd.DataFrame({'raw count': count_states})\n",
    "df_frac_states = pd.DataFrame({'fraction': fraction_states})\n",
    "\n",
    "df_combined = pd.concat([df_filename_states, df_token_count_states, df_count_states, df_frac_states], axis=1)\n",
    "df_combined_final = df_combined.round(3).sort_values(by='file')\n",
    "df_combined_final.to_csv('./states_difficult_words_analysis.csv', sep=',',index=False)"
   ]
  }
 ],
 "metadata": {
  "kernelspec": {
   "display_name": "Python 3",
   "language": "python",
   "name": "python3"
  },
  "language_info": {
   "codemirror_mode": {
    "name": "ipython",
    "version": 3
   },
   "file_extension": ".py",
   "mimetype": "text/x-python",
   "name": "python",
   "nbconvert_exporter": "python",
   "pygments_lexer": "ipython3",
   "version": "3.7.7"
  }
 },
 "nbformat": 4,
 "nbformat_minor": 2
}
